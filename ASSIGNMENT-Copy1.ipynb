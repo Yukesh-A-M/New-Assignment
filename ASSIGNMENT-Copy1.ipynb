{
 "cells": [
  {
   "cell_type": "markdown",
   "id": "3805ee4a",
   "metadata": {},
   "source": [
    "# My Jupyter Notebook on IBM Watson Studio"
   ]
  },
  {
   "cell_type": "markdown",
   "id": "aa2610dd",
   "metadata": {},
   "source": [
    "<b>YUKESH</b>\n",
    "\n",
    "\n",
    "\n",
    "\n"
   ]
  },
  {
   "cell_type": "markdown",
   "id": "0393cc62",
   "metadata": {},
   "source": [
    "*I am interested in data science because if it uses*"
   ]
  },
  {
   "cell_type": "markdown",
   "id": "16928151",
   "metadata": {},
   "source": [
    "# i am going to add number\n"
   ]
  },
  {
   "cell_type": "code",
   "execution_count": 1,
   "id": "c95b2a70",
   "metadata": {
    "scrolled": true
   },
   "outputs": [
    {
     "name": "stdout",
     "output_type": "stream",
     "text": [
      "11\n"
     ]
    }
   ],
   "source": [
    "sum = 10+1\n",
    "\n",
    "print(sum)"
   ]
  },
  {
   "cell_type": "markdown",
   "id": "365effaf",
   "metadata": {},
   "source": [
    "# list of product"
   ]
  },
  {
   "cell_type": "markdown",
   "id": "15bfdac2",
   "metadata": {},
   "source": [
    "<ul>\n",
    "    <li>FOOTBALL<il>\n",
    "       <li>CRICKETBALL<il>\n",
    "           <li>BASKETBALL<il>\n",
    "               </ul>\n",
    "           "
   ]
  },
  {
   "cell_type": "markdown",
   "id": "4ea76fbc",
   "metadata": {},
   "source": [
    "# NEW LIST"
   ]
  },
  {
   "cell_type": "markdown",
   "id": "429c8ada",
   "metadata": {},
   "source": [
    "1.first item\n",
    "\n",
    "2.second item"
   ]
  },
  {
   "cell_type": "markdown",
   "id": "939ab44e",
   "metadata": {},
   "source": [
    "[click here to google](http://www.google.com/)"
   ]
  }
 ],
 "metadata": {
  "kernelspec": {
   "display_name": "Python 3 (ipykernel)",
   "language": "python",
   "name": "python3"
  },
  "language_info": {
   "codemirror_mode": {
    "name": "ipython",
    "version": 3
   },
   "file_extension": ".py",
   "mimetype": "text/x-python",
   "name": "python",
   "nbconvert_exporter": "python",
   "pygments_lexer": "ipython3",
   "version": "3.9.12"
  }
 },
 "nbformat": 4,
 "nbformat_minor": 5
}
